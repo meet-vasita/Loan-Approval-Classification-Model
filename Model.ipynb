{
 "cells": [
  {
   "cell_type": "code",
   "execution_count": null,
   "id": "0d62023d",
   "metadata": {},
   "outputs": [],
   "source": [
    "#Importing the Data Manipulation Libraries\n",
    "import logging.config\n",
    "import numpy as np\n",
    "import pandas as pd\n",
    "#Importing the Data Visualization Libraries\n",
    "import matplotlib.pyplot as plt\n",
    "import seaborn as sns\n",
    "#Importing Data Filter Warning Libraries \n",
    "import warnings\n",
    "warnings.filterwarnings('ignore')\n",
    "#Importing Logging Library \n",
    "import logging\n",
    "logging.basicConfig(level=logging.INFO,\n",
    "                    format='%(asctime)s - %(levelname)s - %(message)s',\n",
    "                    filemode='w',\n",
    "                    filename='model.log',force=True)\n",
    "\n",
    "#Importing Sci-kit Libraries \n",
    "from sklearn.preprocessing import MinMaxScaler,RobustScaler,StandardScaler\n",
    "from sklearn.model_selection import train_test_split\n",
    "from sklearn.metrics import accuracy_score, confusion_matrix"
   ]
  }
 ],
 "metadata": {
  "kernelspec": {
   "display_name": "Python 3",
   "language": "python",
   "name": "python3"
  },
  "language_info": {
   "codemirror_mode": {
    "name": "ipython",
    "version": 3
   },
   "file_extension": ".py",
   "mimetype": "text/x-python",
   "name": "python",
   "nbconvert_exporter": "python",
   "pygments_lexer": "ipython3",
   "version": "3.10.11"
  }
 },
 "nbformat": 4,
 "nbformat_minor": 5
}
